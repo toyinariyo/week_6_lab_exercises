{
 "cells": [
  {
   "cell_type": "code",
   "execution_count": 13,
   "metadata": {},
   "outputs": [],
   "source": [
    "import requests\n",
    "import pandas as pd\n",
    "import matplotlib.pyplot as plt"
   ]
  },
  {
   "cell_type": "code",
   "execution_count": 14,
   "metadata": {},
   "outputs": [],
   "source": [
    "from config import API_KEY"
   ]
  },
  {
   "cell_type": "code",
   "execution_count": 16,
   "metadata": {},
   "outputs": [
    {
     "name": "stdout",
     "output_type": "stream",
     "text": [
      "{'coord': {'lon': 139.6917, 'lat': 35.6895}, 'weather': [{'id': 800, 'main': 'Clear', 'description': 'clear sky', 'icon': '01n'}], 'base': 'stations', 'main': {'temp': 2.76, 'feels_like': -0.63, 'temp_min': 1.44, 'temp_max': 3.79, 'pressure': 1025, 'humidity': 47, 'sea_level': 1025, 'grnd_level': 1023}, 'visibility': 10000, 'wind': {'speed': 3.6, 'deg': 30}, 'clouds': {'all': 0}, 'dt': 1739291620, 'sys': {'type': 2, 'id': 268395, 'country': 'JP', 'sunrise': 1739309509, 'sunset': 1739348358}, 'timezone': 32400, 'id': 1850144, 'name': 'Tokyo', 'cod': 200}\n",
      "City: Tokyo\n",
      "Temperature: 2.76°C\n",
      "Humidity: 47%\n",
      "Weather: clear sky\n"
     ]
    }
   ],
   "source": [
    "CITY_NAME = \"Tokyo\"\n",
    "def get_weather_data(city_name):\n",
    "    url = f\"https://api.openweathermap.org/data/2.5/weather?q={city_name}&appid={API_KEY}&units=metric\"\n",
    "    response = requests.get(url)\n",
    "    data = response.json()\n",
    "    print(data)\n",
    "\n",
    "    if \"main\" in data:\n",
    "        city = data[\"name\"]\n",
    "        temp = data[\"main\"][\"temp\"]\n",
    "        humidity = data[\"main\"][\"humidity\"]\n",
    "        weather = data[\"weather\"][0][\"description\"]\n",
    "        print(f\"City: {city}\\nTemperature: {temp}°C\\nHumidity: {humidity}%\\nWeather: {weather}\")\n",
    "    else:\n",
    "        print(\"Error fetching weather data.\")\n",
    "    \n",
    "get_weather_data(CITY_NAME)\n",
    "    "
   ]
  }
 ],
 "metadata": {
  "kernelspec": {
   "display_name": "Python 3",
   "language": "python",
   "name": "python3"
  },
  "language_info": {
   "codemirror_mode": {
    "name": "ipython",
    "version": 3
   },
   "file_extension": ".py",
   "mimetype": "text/x-python",
   "name": "python",
   "nbconvert_exporter": "python",
   "pygments_lexer": "ipython3",
   "version": "3.13.0"
  }
 },
 "nbformat": 4,
 "nbformat_minor": 2
}
