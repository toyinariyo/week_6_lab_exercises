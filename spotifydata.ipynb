{
 "cells": [
  {
   "cell_type": "code",
   "execution_count": 2,
   "metadata": {},
   "outputs": [],
   "source": [
    "import spotipy\n",
    "from spotipy.oauth2 import SpotifyClientCredentials\n",
    "import pandas as pd\n",
    "import matplotlib.pyplot as plt\n",
    "from spotifyconfig import SPOTIPY_CLIENT_ID, SPOTIPY_CLIENT_SECRET"
   ]
  },
  {
   "cell_type": "code",
   "execution_count": 3,
   "metadata": {},
   "outputs": [],
   "source": [
    "client_credentials_manager = SpotifyClientCredentials(client_id=SPOTIPY_CLIENT_ID,\n",
    "                                                      client_secret=SPOTIPY_CLIENT_SECRET)\n",
    "sp = spotipy.Spotify(client_credentials_manager=client_credentials_manager)"
   ]
  },
  {
   "cell_type": "code",
   "execution_count": 4,
   "metadata": {},
   "outputs": [],
   "source": [
    "artist_name = []\n",
    "track_name = []\n",
    "popularity = []\n",
    "track_id = []\n",
    "images = []\n",
    "\n",
    "for i in range(0, 1000, 50):\n",
    "    track_results = sp.search(q='year:2023', type='track', limit=50, offset=i)\n",
    "    for t in track_results['tracks']['items']:\n",
    "        artist_name.append(t['artists'][0]['name'])\n",
    "        track_name.append(t['name'])\n",
    "        track_id.append(t['id'])\n",
    "        popularity.append(t['popularity'])\n",
    "        images.append(t['album']['images'][0]['url'])"
   ]
  },
  {
   "cell_type": "code",
   "execution_count": 5,
   "metadata": {},
   "outputs": [
    {
     "name": "stdout",
     "output_type": "stream",
     "text": [
      "         Artist                                           Track  \\\n",
      "0    The Weeknd  One Of The Girls (with JENNIE, Lily Rose Depp)   \n",
      "1   Teddy Swims                                    Lose Control   \n",
      "2   Don Toliver                                         No Pole   \n",
      "3          Feid                                            LUNA   \n",
      "4  Travis Scott                      FE!N (feat. Playboi Carti)   \n",
      "\n",
      "                 Track ID  Popularity  \\\n",
      "0  7CyPwkp0oE8Ro9Dd5CUDjW          90   \n",
      "1  17phhZDn6oGtzMe56NuWvj          89   \n",
      "2  0eaVIYo2zeOaGJeqZ5TwYz          87   \n",
      "3  7bywjHOc0wSjGGbj04XbVi          87   \n",
      "4  42VsgItocQwOQC3XWZ8JNA          86   \n",
      "\n",
      "                                           Image URL  \n",
      "0  https://i.scdn.co/image/ab67616d0000b273b0dd6a...  \n",
      "1  https://i.scdn.co/image/ab67616d0000b2731a0323...  \n",
      "2  https://i.scdn.co/image/ab67616d0000b273f5e27c...  \n",
      "3  https://i.scdn.co/image/ab67616d0000b273f1aad8...  \n",
      "4  https://i.scdn.co/image/ab67616d0000b273881d8d...  \n"
     ]
    }
   ],
   "source": [
    "track_dataframe = pd.DataFrame({\n",
    "    'Artist': artist_name,\n",
    "    'Track': track_name,\n",
    "    'Track ID': track_id,\n",
    "    'Popularity': popularity,\n",
    "    'Image URL': images\n",
    "})\n",
    "\n",
    "# Sort by popularity (descending)\n",
    "df_sorted = track_dataframe.sort_values(by='Popularity', ascending=False).reset_index(drop=True)\n",
    "\n",
    "# Display the first 10 most popular tracks\n",
    "df_sorted.head(10)\n",
    "print(df_sorted.head())"
   ]
  }
 ],
 "metadata": {
  "kernelspec": {
   "display_name": "Python 3",
   "language": "python",
   "name": "python3"
  },
  "language_info": {
   "codemirror_mode": {
    "name": "ipython",
    "version": 3
   },
   "file_extension": ".py",
   "mimetype": "text/x-python",
   "name": "python",
   "nbconvert_exporter": "python",
   "pygments_lexer": "ipython3",
   "version": "3.13.0"
  }
 },
 "nbformat": 4,
 "nbformat_minor": 2
}
